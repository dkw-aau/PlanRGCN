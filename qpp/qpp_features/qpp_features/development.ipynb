{
 "cells": [
  {
   "cell_type": "markdown",
   "id": "652bdeff-3290-41db-82d9-12314fb9b15c",
   "metadata": {},
   "source": [
    "## GED feature generation"
   ]
  },
  {
   "cell_type": "markdown",
   "id": "b3b57e77-4219-43c5-b3fd-d2660f794917",
   "metadata": {},
   "source": [
    "### DBpedia"
   ]
  },
  {
   "cell_type": "code",
   "execution_count": null,
   "id": "e8cbcbb0-ec90-4b53-9831-2efce3093da3",
   "metadata": {},
   "outputs": [],
   "source": [
    "from qpp_new.feature_combiner import create_different_k_ged_dist_matrix\n",
    "basedir=\"/data/DBpedia2016_0_1_10_path_weight_loss\"\n",
    "database_path = \"/data/dbpedia_ged.db\"\n",
    "create_different_k_ged_dist_matrix(basedir=basedir, database_path=database_path)"
   ]
  },
  {
   "cell_type": "code",
   "execution_count": null,
   "id": "c0b23094-6f8c-4c4f-9b40-79217cc70b4d",
   "metadata": {},
   "outputs": [
    {
     "name": "stdout",
     "output_type": "stream",
     "text": [
      "Begin Clustering!\n",
      "model cost:  287923629.0\n",
      "Time to create clusters: 10593.97574687004\n",
      "\n",
      "Begin Clustering!\n"
     ]
    }
   ],
   "source": [
    "from qpp_new.feature_combiner import create_different_k_ged_dist_matrix\n",
    "basedir=\"/data/DBpedia2016_0_1_10_weight_loss\"\n",
    "database_path = \"/data/dbpedia_ged.db\"\n",
    "create_different_k_ged_dist_matrix(basedir=basedir, database_path=database_path)\n"
   ]
  },
  {
   "cell_type": "markdown",
   "id": "17e942e7-be4c-4f76-8287-1aafb1b88047",
   "metadata": {},
   "source": [
    "### Wikidata"
   ]
  },
  {
   "cell_type": "code",
   "execution_count": null,
   "id": "0f5a63c7-5730-41a5-b10b-50e9e812d682",
   "metadata": {},
   "outputs": [],
   "source": [
    "from qpp_new.feature_combiner import create_different_k_ged_dist_matrix\n",
    "basedir=\"/data/wikidata_0_1_10_v2_path_weight_loss\"\n",
    "database_path = \"/data/wiki_ged_final2.db\"\n",
    "create_different_k_ged_dist_matrix(basedir=basedir, database_path=database_path)"
   ]
  },
  {
   "cell_type": "code",
   "execution_count": null,
   "id": "c136f82e-08c0-4afc-ac59-13a832e40a83",
   "metadata": {},
   "outputs": [],
   "source": [
    "from qpp_new.feature_combiner import create_different_k_ged_dist_matrix\n",
    "basedir=\"/data/wikidata_0_1_10_v2_weight_loss\"\n",
    "database_path = \"/data/wiki_ged_final2.db\"\n",
    "create_different_k_ged_dist_matrix(basedir=basedir, database_path=database_path)"
   ]
  },
  {
   "cell_type": "markdown",
   "id": "9871499f-fe08-4843-b116-d3d505168ad7",
   "metadata": {
    "jp-MarkdownHeadingCollapsed": true
   },
   "source": [
    "# Development code"
   ]
  },
  {
   "cell_type": "code",
   "execution_count": null,
   "id": "9d1709e8-f5fa-4e28-874f-73b78acfb9cf",
   "metadata": {},
   "outputs": [],
   "source": [
    "#test code:\n",
    "import numpy as np\n",
    "center_ids = np.loadtxt(\"/data/DBpedia2016_0_1_10_path_weight_loss/knn25/center_cache_file\")\n",
    "center_ids"
   ]
  },
  {
   "cell_type": "markdown",
   "id": "6e7e5535-3806-43d5-8b7f-d2397f0ae75f",
   "metadata": {
    "jp-MarkdownHeadingCollapsed": true
   },
   "source": [
    "## DB Wrapper test"
   ]
  },
  {
   "cell_type": "code",
   "execution_count": null,
   "id": "aff0c93a-b639-4598-8645-ef1af2dec088",
   "metadata": {},
   "outputs": [],
   "source": [
    "from qpp_features.database import DatabaseConnector\n",
    "import sqlite3\n",
    "from qpp_features.database import DatabaseConnector\n",
    "from qpp_features.database import GEDDict\n",
    "database_path = \"/data/dbpedia_ged.db\"\n",
    "db = GEDDict(file_name=database_path,update_improve=False)\n",
    "id1 = \"http://lsq.aksw.org/lsqQuery-eWXAkkV0HEhVJH54_v3eRVRhBotS_W1o5piBUaHRrEsLIMIT\"\n",
    "id2 = \"http://lsq.aksw.org/lsqQuery-V5u0z3yidgu1yHcy-sI4f6SD2W6QBlcUQuwCDwtgrLE\"\n",
    "print(db[id1,id2])\n",
    "print(db[id2,id1])"
   ]
  },
  {
   "cell_type": "markdown",
   "id": "ff6885b2-72fe-4dd4-9491-9870b5440b2d",
   "metadata": {
    "jp-MarkdownHeadingCollapsed": true
   },
   "source": [
    "## Dict wrapper test"
   ]
  },
  {
   "cell_type": "code",
   "execution_count": null,
   "id": "80ded8b3-7c3a-41ff-9c6e-0be1f4f00446",
   "metadata": {},
   "outputs": [],
   "source": [
    "class GEDDict(dict):\n",
    "    def __init__(self):\n",
    "        pass\n",
    "    def __setitem__(self,idx, item):\n",
    "        raise Exception(\"Set operation should not happen\")\n",
    "        \n",
    "    def __getitem__(self,idx):\n",
    "        if not isinstance(idx, tuple):\n",
    "            raise Exception(f\"{idx} is not a tuple!\")\n",
    "        if idx == (1,2):\n",
    "            return True\n",
    "        \n",
    "        raise Exception(\"ntoe implemetned\")\n",
    "    \n",
    "    def keys(self):\n",
    "        raise Exception(\"keys operation should not happen\")\n",
    "        return []\n",
    "    def values(self):\n",
    "        raise Exception(\"values operation should not happen\")\n",
    "        return []\n",
    "    def items(self):\n",
    "        raise Exception(\"items operation should not happen\")\n",
    "        return []\n",
    "    def get(self, idx):\n",
    "        return self.__getitem__(idx)\n",
    "d = GEDDict()\n",
    "#d[1,2] = 0\n",
    "d[1,2]"
   ]
  },
  {
   "cell_type": "markdown",
   "id": "4bdd19be-cdd9-4e08-a115-41bc56b44e7e",
   "metadata": {
    "jp-MarkdownHeadingCollapsed": true
   },
   "source": [
    "## Existince check in SQLite DB"
   ]
  },
  {
   "cell_type": "code",
   "execution_count": null,
   "id": "a2b5455c-a0bf-40ec-9512-e98052dad3ab",
   "metadata": {},
   "outputs": [],
   "source": [
    "from qpp_features.database import DatabaseConnector\n",
    "import os,json, json5\n",
    "import pandas as pd\n",
    "import sqlite3\n",
    "from qpp_features.database import DatabaseConnector\n",
    "from qpp_features.database import GEDDatabase\n",
    "from qpp_features.query import load_json\n",
    "import msgspec\n",
    "database_path = \"/data/dbpedia_ged.db\"\n",
    "db = GEDDatabase(file_name=database_path,update_improve=True)\n",
    "id1 = \"http://lsq.aksw.org/lsqQuery-eWXAkkV0HEhVJH54_v3eRVRhBotS_W1o5piBUaHRrEsLIMIT\"\n",
    "id2 = \"http://lsq.aksw.org/lsqQuery-V5u0z3yidgu1yHcy-sI4f6SD2W6QBlcUQuwCDwtgrLE\"\n",
    "db.get(id1,id2)\n",
    "db.get(id2,id1)\n",
    "db.exists(id1,id2)\n",
    "db.exists(id2,id1)"
   ]
  },
  {
   "cell_type": "markdown",
   "id": "fe4583c8-35e8-4406-b617-c9990d920b7c",
   "metadata": {
    "jp-MarkdownHeadingCollapsed": true
   },
   "source": [
    "## Pair calculation"
   ]
  },
  {
   "cell_type": "code",
   "execution_count": null,
   "id": "b853b683-d7f2-4864-8c2c-817fc4c8753d",
   "metadata": {},
   "outputs": [],
   "source": [
    "import importlib\n",
    "from qpp_features import ged_calculator as ged\n",
    "importlib.reload(ged)\n",
    "create_id_combination_files_multi_processing = ged.create_id_combination_files_multi_processing\n",
    "get_id_combinations_mult = ged.get_id_combinations_mult"
   ]
  },
  {
   "cell_type": "code",
   "execution_count": null,
   "id": "b6f4e514-ed8e-49a8-ae02-ef0965ed917d",
   "metadata": {},
   "outputs": [],
   "source": [
    "# Test case\n",
    "ids = [1,2,3,4,5,6,7,8,9]"
   ]
  },
  {
   "cell_type": "code",
   "execution_count": null,
   "id": "c5694e7b-17f3-411e-aef1-4b23c01bc291",
   "metadata": {},
   "outputs": [],
   "source": [
    "s = get_id_combinations_mult(ids, k=3, index_start=0, index_end=1)"
   ]
  },
  {
   "cell_type": "code",
   "execution_count": null,
   "id": "81a5ddab-815d-41fc-a58c-d426c9b01d2f",
   "metadata": {},
   "outputs": [],
   "source": [
    "str(next(s))"
   ]
  },
  {
   "cell_type": "code",
   "execution_count": null,
   "id": "765ac96a-aadf-49de-804e-36f6a44de78b",
   "metadata": {},
   "outputs": [],
   "source": [
    "n = len(ids)\n",
    "\n",
    "def calculate_intervals(n, sample_size):\n",
    "    intervals = []\n",
    "    prev = 0\n",
    "    intervals.append((prev,prev+sample_size))\n",
    "    prev = sample_size\n",
    "    while (prev <= n):\n",
    "        increment = prev+sample_size\n",
    "        if increment< n:\n",
    "            intervals.append((prev, increment))\n",
    "        else:\n",
    "            intervals.append((prev, n))\n",
    "        prev += sample_size\n",
    "    return intervals\n",
    "calculate_intervals(n, 2)\n",
    "    "
   ]
  },
  {
   "cell_type": "code",
   "execution_count": null,
   "id": "0d926117-0298-43d0-ae5a-41e2f781da3b",
   "metadata": {},
   "outputs": [],
   "source": [
    "import math\n",
    "math.ceil(2.3)"
   ]
  },
  {
   "cell_type": "code",
   "execution_count": null,
   "id": "d9cd484a-e145-48fb-bc3f-14543804e8f3",
   "metadata": {},
   "outputs": [],
   "source": [
    "idss = [ids for x in range(len(ids))]\n",
    "t = [False for x in range(len(ids))]\n",
    "list(zip(idss,t))"
   ]
  }
 ],
 "metadata": {
  "kernelspec": {
   "display_name": "Python 3 (ipykernel)",
   "language": "python",
   "name": "python3"
  },
  "language_info": {
   "codemirror_mode": {
    "name": "ipython",
    "version": 3
   },
   "file_extension": ".py",
   "mimetype": "text/x-python",
   "name": "python",
   "nbconvert_exporter": "python",
   "pygments_lexer": "ipython3",
   "version": "3.10.12"
  }
 },
 "nbformat": 4,
 "nbformat_minor": 5
}
