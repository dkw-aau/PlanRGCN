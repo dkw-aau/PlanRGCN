{
 "cells": [
  {
   "cell_type": "code",
   "execution_count": null,
   "id": "0be9a700-7d1e-40c5-9ea8-d5b0a5daf743",
   "metadata": {
    "scrolled": true
   },
   "outputs": [],
   "source": [
    "!pip3 install -e /qpp/qpp_features/"
   ]
  },
  {
   "cell_type": "code",
   "execution_count": 1,
   "id": "2a209673-abdd-4faf-84c9-0dfe35bcf272",
   "metadata": {},
   "outputs": [
    {
     "ename": "KeyboardInterrupt",
     "evalue": "",
     "output_type": "error",
     "traceback": [
      "\u001b[0;31m---------------------------------------------------------------------------\u001b[0m",
      "\u001b[0;31mKeyboardInterrupt\u001b[0m                         Traceback (most recent call last)",
      "Cell \u001b[0;32mIn[1], line 65\u001b[0m\n\u001b[1;32m     63\u001b[0m database_path \u001b[38;5;241m=\u001b[39m \u001b[38;5;124m\"\u001b[39m\u001b[38;5;124m/data/wiki_ged_final.db\u001b[39m\u001b[38;5;124m\"\u001b[39m\n\u001b[1;32m     64\u001b[0m dists_files \u001b[38;5;241m=\u001b[39m [\u001b[38;5;124mf\u001b[39m\u001b[38;5;124m\"\u001b[39m\u001b[38;5;132;01m{\u001b[39;00mdist_path\u001b[38;5;132;01m}\u001b[39;00m\u001b[38;5;124m/\u001b[39m\u001b[38;5;132;01m{\u001b[39;00mx\u001b[38;5;132;01m}\u001b[39;00m\u001b[38;5;124m\"\u001b[39m \u001b[38;5;28;01mfor\u001b[39;00m x \u001b[38;5;129;01min\u001b[39;00m os\u001b[38;5;241m.\u001b[39mlistdir(dist_path)]\n\u001b[0;32m---> 65\u001b[0m res \u001b[38;5;241m=\u001b[39m [process_json(x, database_path) \u001b[38;5;28;01mfor\u001b[39;00m x \u001b[38;5;129;01min\u001b[39;00m dists_files]\n\u001b[1;32m     66\u001b[0m \u001b[38;5;66;03m#res = [process_csv(x, database_path) for x in dists_files]\u001b[39;00m\n",
      "Cell \u001b[0;32mIn[1], line 65\u001b[0m, in \u001b[0;36m<listcomp>\u001b[0;34m(.0)\u001b[0m\n\u001b[1;32m     63\u001b[0m database_path \u001b[38;5;241m=\u001b[39m \u001b[38;5;124m\"\u001b[39m\u001b[38;5;124m/data/wiki_ged_final.db\u001b[39m\u001b[38;5;124m\"\u001b[39m\n\u001b[1;32m     64\u001b[0m dists_files \u001b[38;5;241m=\u001b[39m [\u001b[38;5;124mf\u001b[39m\u001b[38;5;124m\"\u001b[39m\u001b[38;5;132;01m{\u001b[39;00mdist_path\u001b[38;5;132;01m}\u001b[39;00m\u001b[38;5;124m/\u001b[39m\u001b[38;5;132;01m{\u001b[39;00mx\u001b[38;5;132;01m}\u001b[39;00m\u001b[38;5;124m\"\u001b[39m \u001b[38;5;28;01mfor\u001b[39;00m x \u001b[38;5;129;01min\u001b[39;00m os\u001b[38;5;241m.\u001b[39mlistdir(dist_path)]\n\u001b[0;32m---> 65\u001b[0m res \u001b[38;5;241m=\u001b[39m [\u001b[43mprocess_json\u001b[49m\u001b[43m(\u001b[49m\u001b[43mx\u001b[49m\u001b[43m,\u001b[49m\u001b[43m \u001b[49m\u001b[43mdatabase_path\u001b[49m\u001b[43m)\u001b[49m \u001b[38;5;28;01mfor\u001b[39;00m x \u001b[38;5;129;01min\u001b[39;00m dists_files]\n\u001b[1;32m     66\u001b[0m \u001b[38;5;66;03m#res = [process_csv(x, database_path) for x in dists_files]\u001b[39;00m\n",
      "Cell \u001b[0;32mIn[1], line 46\u001b[0m, in \u001b[0;36mprocess_json\u001b[0;34m(path, db_path)\u001b[0m\n\u001b[1;32m     44\u001b[0m \u001b[38;5;28;01melse\u001b[39;00m:\n\u001b[1;32m     45\u001b[0m     \u001b[38;5;28;01mtry\u001b[39;00m:\n\u001b[0;32m---> 46\u001b[0m         \u001b[43mdb\u001b[49m\u001b[38;5;241;43m.\u001b[39;49m\u001b[43minsert_ged\u001b[49m\u001b[43m(\u001b[49m\u001b[43mq\u001b[49m\u001b[38;5;241;43m.\u001b[39;49m\u001b[43mqueryID1\u001b[49m\u001b[43m,\u001b[49m\u001b[43mq\u001b[49m\u001b[38;5;241;43m.\u001b[39;49m\u001b[43mqueryID2\u001b[49m\u001b[43m,\u001b[49m\u001b[38;5;28;43mfloat\u001b[39;49m\u001b[43m(\u001b[49m\u001b[43mq\u001b[49m\u001b[38;5;241;43m.\u001b[39;49m\u001b[43mdist\u001b[49m\u001b[43m)\u001b[49m\u001b[43m)\u001b[49m\n\u001b[1;32m     47\u001b[0m     \u001b[38;5;28;01mexcept\u001b[39;00m \u001b[38;5;167;01mValueError\u001b[39;00m:\n\u001b[1;32m     48\u001b[0m         db\u001b[38;5;241m.\u001b[39minsert_ged(q\u001b[38;5;241m.\u001b[39mqueryID1,q\u001b[38;5;241m.\u001b[39mqueryID2,q\u001b[38;5;241m.\u001b[39mdist)\n",
      "File \u001b[0;32m/qpp/qpp_features/qpp_features/database.py:47\u001b[0m, in \u001b[0;36mDatabaseConnector.insert_ged\u001b[0;34m(self, queryid1, queryid2, dist)\u001b[0m\n\u001b[1;32m     45\u001b[0m \u001b[38;5;28;01mexcept\u001b[39;00m sqlite3\u001b[38;5;241m.\u001b[39mIntegrityError:\n\u001b[1;32m     46\u001b[0m     \u001b[38;5;28;01mreturn\u001b[39;00m \u001b[38;5;28;01mFalse\u001b[39;00m\n\u001b[0;32m---> 47\u001b[0m \u001b[38;5;28;43mself\u001b[39;49m\u001b[38;5;241;43m.\u001b[39;49m\u001b[43mcon\u001b[49m\u001b[38;5;241;43m.\u001b[39;49m\u001b[43mcommit\u001b[49m\u001b[43m(\u001b[49m\u001b[43m)\u001b[49m\n\u001b[1;32m     48\u001b[0m \u001b[38;5;28;01mreturn\u001b[39;00m \u001b[38;5;28;01mTrue\u001b[39;00m\n",
      "\u001b[0;31mKeyboardInterrupt\u001b[0m: "
     ]
    }
   ],
   "source": [
    "from qpp_features.database import DatabaseConnector\n",
    "import os,json, json5\n",
    "import pandas as pd\n",
    "import sqlite3\n",
    "from qpp_features.database import DatabaseConnector\n",
    "from qpp_features.database import GEDDatabase\n",
    "from qpp_features.query import load_json\n",
    "def process_csv(path, db_path):\n",
    "    db = DatabaseConnector(file_name=db_path)\n",
    "    try:\n",
    "        df = pd.read_csv(path, names=['queryID1', 'queryID2','dist','time'])\n",
    "        df['queryID1']= df['queryID1'].apply(lambda x: x[1:].replace(\"\\\"\",\"\").replace(\"\\\\\",\"\"))\n",
    "        df['queryID2']= df['queryID2'].apply(lambda x: x[1:].replace(\"\\\"\",\"\").replace(\"\\\\\",\"\"))\n",
    "        df['dist'] = df['dist'].apply(lambda x: x.replace(\"\\\"\",\"\").replace(\"\\\\\",\"\"))\n",
    "        #lst = []\n",
    "        if len(df) == 0:\n",
    "            return False\n",
    "        for idx, row in df.iterrows():\n",
    "            try:\n",
    "                if row['dist'] == \"None\" or row['dist'] == None:\n",
    "                    db.insert_ged(row['queryID1'],row['queryID2'],-1)\n",
    "                else:\n",
    "                    db.insert_ged(row['queryID1'],row['queryID2'],row['dist'])\n",
    "            except sqlite3.OperationalError as e1:\n",
    "                print(path)\n",
    "                print(row['queryID1'],row['queryID2'],row['dist'])\n",
    "                e1.with_traceback()\n",
    "            #lst.append((row['queryID1'],row['queryID2'],row['dist']))\n",
    "        #db.insert_multiple(lst)\n",
    "        print(f\"finished {path}\")\n",
    "    except Exception as e:\n",
    "        del db\n",
    "        print(e.with_traceback())\n",
    "    return True\n",
    "    \n",
    "def process_json(path, db_path):\n",
    "    \"\"\" return true if successfull, false if not, and NOne if failed to load json\n",
    "    \"\"\"\n",
    "    db = DatabaseConnector(file_name=db_path)\n",
    "    try:\n",
    "        data = load_json(path)\n",
    "    except Exception:\n",
    "        return None\n",
    "    if data is not None:\n",
    "        try:\n",
    "            for q in data:\n",
    "                try:\n",
    "                    if q.dist == \"None\" or q.dist == None:\n",
    "                        db.insert_ged(q.queryID1,q.queryID2,-1)\n",
    "                    else:\n",
    "                        try:\n",
    "                            db.insert_ged(q.queryID1,q.queryID2,float(q.dist))\n",
    "                        except ValueError:\n",
    "                            db.insert_ged(q.queryID1,q.queryID2,q.dist)\n",
    "                except sqlite3.OperationalError as e1:\n",
    "                    print(path)\n",
    "                    print(q)\n",
    "                    print(e1)\n",
    "            print(f\"finished {path}\")\n",
    "            return True\n",
    "        except Exception as e:\n",
    "            del db\n",
    "            print(e.with_traceback())\n",
    "            return False\n",
    "def process_json(path, db_path):\n",
    "    db = GEDDatabase(file_name=db_path,update_improve=True)\n",
    "    try:\n",
    "        data = load_json(path)\n",
    "    except Exception:\n",
    "        return None\n",
    "    except msgspec.DecodeError:\n",
    "        return None\n",
    "    if data is not None:\n",
    "        try:\n",
    "            for q in data:\n",
    "                try:\n",
    "                    if q.dist == \"None\" or q.dist == None:\n",
    "                        db.insert_ged(q.queryID1,q.queryID2,-1)\n",
    "                    else:\n",
    "                        db.insert_ged(q.queryID1,q.queryID2,q.dist)\n",
    "                except sqlite3.OperationalError as e1:\n",
    "                    print(path)\n",
    "                    print(q)\n",
    "                    print(e1)\n",
    "            print(f\"finished {path}\")\n",
    "            db.checkpoint()\n",
    "            return True\n",
    "        except Exception as e:\n",
    "            del db\n",
    "            print(e.with_traceback())\n",
    "            return False\n",
    "    db.checkpoint()\n",
    "    \n",
    "dist_path = \"/qpp/wikidata_dists/distances\"\n",
    "dist_path = \"/data/wikidata_dists/csv_distances\"\n",
    "dist_path = \"/qpp/wikidata_dists/distances\" #path to json files\n",
    "database_path = \"/data/wiki_ged_final2.db\"\n",
    "dists_files = [f\"{dist_path}/{x}\" for x in os.listdir(dist_path)]\n",
    "res = [process_json(x, database_path) for x in dists_files]\n",
    "#res = [process_csv(x, database_path) for x in dists_files]"
   ]
  },
  {
   "cell_type": "code",
   "execution_count": null,
   "id": "39021064-f37a-4214-8071-63ee65ff5980",
   "metadata": {},
   "outputs": [],
   "source": [
    "#database loading for dbpedia distances\n",
    "from qpp_features.database import DatabaseConnector\n",
    "import os,json, json5\n",
    "import pandas as pd\n",
    "import sqlite3\n",
    "from qpp_features.database import DatabaseConnector\n",
    "from qpp_features.database import GEDDatabase\n",
    "from qpp_features.query import load_json\n",
    "import msgspec\n",
    "def process_csv(path, db_path):\n",
    "    db = DatabaseConnector(file_name=db_path)\n",
    "    try:\n",
    "        df = pd.read_csv(path, names=['queryID1', 'queryID2','dist','time'])\n",
    "        df['queryID1']= df['queryID1'].apply(lambda x: x[1:].replace(\"\\\"\",\"\").replace(\"\\\\\",\"\"))\n",
    "        df['queryID2']= df['queryID2'].apply(lambda x: x[1:].replace(\"\\\"\",\"\").replace(\"\\\\\",\"\"))\n",
    "        df['dist'] = df['dist'].apply(lambda x: x.replace(\"\\\"\",\"\").replace(\"\\\\\",\"\"))\n",
    "        #lst = []\n",
    "        if len(df) == 0:\n",
    "            return False\n",
    "        for idx, row in df.iterrows():\n",
    "            try:\n",
    "                if row['dist'] == \"None\" or row['dist'] == None:\n",
    "                    db.insert_ged(row['queryID1'],row['queryID2'],-1)\n",
    "                else:\n",
    "                    db.insert_ged(row['queryID1'],row['queryID2'],row['dist'])\n",
    "            except sqlite3.OperationalError as e1:\n",
    "                print(path)\n",
    "                print(row['queryID1'],row['queryID2'],row['dist'])\n",
    "                e1.with_traceback()\n",
    "            #lst.append((row['queryID1'],row['queryID2'],row['dist']))\n",
    "        #db.insert_multiple(lst)\n",
    "        print(f\"finished {path}\")\n",
    "    except Exception as e:\n",
    "        del db\n",
    "        print(e.with_traceback())\n",
    "    return True\n",
    "    \n",
    "def process_json(path, db_path):\n",
    "    \"\"\" return true if successfull, false if not, and NOne if failed to load json\n",
    "    \"\"\"\n",
    "    db = DatabaseConnector(file_name=db_path)\n",
    "    try:\n",
    "        data = load_json(path)\n",
    "    except Exception:\n",
    "        return None\n",
    "    if data is not None:\n",
    "        try:\n",
    "            for q in data:\n",
    "                try:\n",
    "                    if q.dist == \"None\" or q.dist == None:\n",
    "                        db.insert_ged(q.queryID1,q.queryID2,-1)\n",
    "                    else:\n",
    "                        try:\n",
    "                            db.insert_ged(q.queryID1,q.queryID2,float(q.dist))\n",
    "                        except ValueError:\n",
    "                            db.insert_ged(q.queryID1,q.queryID2,q.dist)\n",
    "                except sqlite3.OperationalError as e1:\n",
    "                    print(path)\n",
    "                    print(q)\n",
    "                    print(e1)\n",
    "            print(f\"finished {path}\")\n",
    "            return True\n",
    "        except Exception as e:\n",
    "            del db\n",
    "            print(e.with_traceback())\n",
    "            return False\n",
    "def process_json(path, db_path):\n",
    "    db = GEDDatabase(file_name=db_path,update_improve=True)\n",
    "    try:\n",
    "        data = load_json(path)\n",
    "    except Exception:\n",
    "        return None\n",
    "    except msgspec.DecodeError:\n",
    "        return None\n",
    "    if data is not None:\n",
    "        try:\n",
    "            for q in data:\n",
    "                try:\n",
    "                    if q.dist == \"None\" or q.dist == None:\n",
    "                        db.insert_ged(q.queryID1,q.queryID2,-1)\n",
    "                    else:\n",
    "                        db.insert_ged(q.queryID1,q.queryID2,q.dist)\n",
    "                except sqlite3.OperationalError as e1:\n",
    "                    print(path)\n",
    "                    print(q)\n",
    "                    print(e1)\n",
    "            print(f\"finished {path}\")\n",
    "            db.checkpoint()\n",
    "            return True\n",
    "        except Exception as e:\n",
    "            del db\n",
    "            print(e.with_traceback())\n",
    "            return False\n",
    "    db.checkpoint()\n",
    "    \n",
    "dist_path = \"/data/dbpedia_dist2/distances\" #path to json files\n",
    "database_path = \"/data/dbpedia_ged.db\"\n",
    "dists_files = [f\"{dist_path}/{x}\" for x in os.listdir(dist_path)]\n",
    "res = [process_json(x, database_path) for x in dists_files]"
   ]
  },
  {
   "cell_type": "code",
   "execution_count": 1,
   "id": "f3784dca-a530-4b5b-a8c2-a0e88cbe3794",
   "metadata": {},
   "outputs": [],
   "source": [
    "def number_of_calculation(n):\n",
    "    return n*(n-1)/2\n",
    "def remaining(n, n_files, n_pair):\n",
    "    cals = number_of_calculation(n)\n",
    "    cals_done = n_files *n_pair\n",
    "    return cals - cals_done"
   ]
  },
  {
   "cell_type": "code",
   "execution_count": 2,
   "id": "778b571b-a18a-4659-9e68-b3772cef87c6",
   "metadata": {},
   "outputs": [
    {
     "data": {
      "text/plain": [
       "127057000.0"
      ]
     },
     "execution_count": 2,
     "metadata": {},
     "output_type": "execute_result"
    }
   ],
   "source": [
    "remaining(16000, 187, 5000)"
   ]
  },
  {
   "cell_type": "code",
   "execution_count": 2,
   "id": "87e92d27-f2c9-4e6d-b6e7-bcd0fe6144a6",
   "metadata": {},
   "outputs": [
    {
     "data": {
      "text/plain": [
       "23085"
      ]
     },
     "execution_count": 2,
     "metadata": {},
     "output_type": "execute_result"
    }
   ],
   "source": [
    "\n",
    "def get_ids(base_dir):\n",
    "    ids = []\n",
    "    df = pd.read_csv(f\"{base_dir}/train_sampled.tsv\", sep='\\t')\n",
    "    ids.extend(list(df['queryID']))\n",
    "    df = pd.read_csv(f\"{base_dir}/val_sampled.tsv\", sep='\\t')\n",
    "    ids.extend(list(df['queryID']))\n",
    "    df = pd.read_csv(f\"{base_dir}/test_sampled.tsv\", sep='\\t')\n",
    "    ids.extend(list(df['queryID']))\n",
    "    return ids\n",
    "basedir=\"/data/wikidata_0_1_10_v2_path_aug\"\n",
    "basedir=\"/data/wikidata_0_1_10_v2_path_weight_loss\"\n",
    "ids = get_ids(basedir)\n",
    "ids = set(ids)\n",
    "len(ids)"
   ]
  },
  {
   "cell_type": "code",
   "execution_count": 7,
   "id": "4f0b16cd-0526-4e39-a03d-f4ac92a451df",
   "metadata": {},
   "outputs": [],
   "source": [
    "df = pd.read_csv(\"/data/wikidata_dists/csv_distances/comb_99999.json.csv\", names=['queryID1', 'queryID2','dist','time'])"
   ]
  },
  {
   "cell_type": "code",
   "execution_count": 8,
   "id": "6e58a1d8-21b5-422c-a282-02a896998ef6",
   "metadata": {},
   "outputs": [],
   "source": [
    "df['queryID1']= df['queryID1'].apply(lambda x: x[1:].replace(\"\\\"\",\"\").replace(\"\\\\\",\"\"))\n",
    "df['queryID2']= df['queryID2'].apply(lambda x: x[1:].replace(\"\\\"\",\"\").replace(\"\\\\\",\"\"))\n",
    "df['dist'] = df['dist'].apply(lambda x: x.replace(\"\\\"\",\"\").replace(\"\\\\\",\"\"))"
   ]
  },
  {
   "cell_type": "code",
   "execution_count": 9,
   "id": "2f55252d-536a-47d4-b15c-e2a0ac1a6f58",
   "metadata": {},
   "outputs": [
    {
     "name": "stdout",
     "output_type": "stream",
     "text": [
      "queryID1    http://lsq.aksw.org/lsqQuery-NIkYK_XBxFoO2RLXz...\n",
      "queryID2    http://lsq.aksw.org/lsqQuery-NIkYK_XBxFoO2RLXz...\n",
      "dist                                                      0.5\n",
      "time                                                 \\\"943\\\"\"\n",
      "Name: 0, dtype: object\n"
     ]
    },
    {
     "data": {
      "text/plain": [
       "[('http://lsq.aksw.org/lsqQuery-NIkYK_XBxFoO2RLXz7aFzcmTIlkw13aHwDkLg4X5KNI',\n",
       "  'http://lsq.aksw.org/lsqQuery-NIkYK_XBxFoO2RLXz7aFzcmTIlkw13aHwDkLg4X5KNI',\n",
       "  '0.5')]"
      ]
     },
     "execution_count": 9,
     "metadata": {},
     "output_type": "execute_result"
    }
   ],
   "source": [
    "lst = []\n",
    "for idx, row in df.iterrows():\n",
    "    print(row)\n",
    "    lst.append((row['queryID1'],row['queryID2'],row['dist']))\n",
    "    break\n",
    "lst"
   ]
  },
  {
   "cell_type": "code",
   "execution_count": 25,
   "id": "5d6e8d2a-aa77-4685-96b4-17b31588ccd3",
   "metadata": {},
   "outputs": [
    {
     "data": {
      "text/html": [
       "<div>\n",
       "<style scoped>\n",
       "    .dataframe tbody tr th:only-of-type {\n",
       "        vertical-align: middle;\n",
       "    }\n",
       "\n",
       "    .dataframe tbody tr th {\n",
       "        vertical-align: top;\n",
       "    }\n",
       "\n",
       "    .dataframe thead th {\n",
       "        text-align: right;\n",
       "    }\n",
       "</style>\n",
       "<table border=\"1\" class=\"dataframe\">\n",
       "  <thead>\n",
       "    <tr style=\"text-align: right;\">\n",
       "      <th></th>\n",
       "      <th>queryID1</th>\n",
       "      <th>queryID2</th>\n",
       "      <th>dist</th>\n",
       "      <th>time</th>\n",
       "    </tr>\n",
       "  </thead>\n",
       "  <tbody>\n",
       "    <tr>\n",
       "      <th>0</th>\n",
       "      <td>http://lsq.aksw.org/lsqQuery-NIkYK_XBxFoO2RLXz...</td>\n",
       "      <td>http://lsq.aksw.org/lsqQuery-NIkYK_XBxFoO2RLXz...</td>\n",
       "      <td>0.5</td>\n",
       "      <td>943</td>\n",
       "    </tr>\n",
       "    <tr>\n",
       "      <th>1</th>\n",
       "      <td>http://lsq.aksw.org/lsqQuery-iFC5C17kDzGGN0Gn4...</td>\n",
       "      <td>http://lsq.aksw.org/lsqQuery-iFC5C17kDzGGN0Gn4...</td>\n",
       "      <td>2.5</td>\n",
       "      <td>14</td>\n",
       "    </tr>\n",
       "    <tr>\n",
       "      <th>2</th>\n",
       "      <td>http://lsq.aksw.org/lsqQuery-x0qiRxGE_Z7n5anjI...</td>\n",
       "      <td>http://lsq.aksw.org/lsqQuery-x0qiRxGE_Z7n5anjI...</td>\n",
       "      <td>4.0</td>\n",
       "      <td>5</td>\n",
       "    </tr>\n",
       "    <tr>\n",
       "      <th>3</th>\n",
       "      <td>http://lsq.aksw.org/lsqQuery-oIWEJSvySrJ4Adz7a...</td>\n",
       "      <td>http://lsq.aksw.org/lsqQuery-oIWEJSvySrJ4Adz7a...</td>\n",
       "      <td>0.5</td>\n",
       "      <td>5</td>\n",
       "    </tr>\n",
       "    <tr>\n",
       "      <th>4</th>\n",
       "      <td>http://lsq.aksw.org/lsqQuery-nRmLxlWCQqk2qJ8Qx...</td>\n",
       "      <td>http://lsq.aksw.org/lsqQuery-nRmLxlWCQqk2qJ8Qx...</td>\n",
       "      <td>0.5</td>\n",
       "      <td>2</td>\n",
       "    </tr>\n",
       "    <tr>\n",
       "      <th>...</th>\n",
       "      <td>...</td>\n",
       "      <td>...</td>\n",
       "      <td>...</td>\n",
       "      <td>...</td>\n",
       "    </tr>\n",
       "    <tr>\n",
       "      <th>995</th>\n",
       "      <td>http://lsq.aksw.org/lsqQuery-h-2jm9IdV-Q_e9zA2...</td>\n",
       "      <td>http://lsq.aksw.org/lsqQuery-h-2jm9IdV-Q_e9zA2...</td>\n",
       "      <td>1.5</td>\n",
       "      <td>0</td>\n",
       "    </tr>\n",
       "    <tr>\n",
       "      <th>996</th>\n",
       "      <td>http://lsq.aksw.org/lsqQuery-hUx_oPDcd_atKa4Tc...</td>\n",
       "      <td>http://lsq.aksw.org/lsqQuery-hUx_oPDcd_atKa4Tc...</td>\n",
       "      <td>0.5</td>\n",
       "      <td>0</td>\n",
       "    </tr>\n",
       "    <tr>\n",
       "      <th>997</th>\n",
       "      <td>http://lsq.aksw.org/lsqQuery-XuGZpY9T5SHOfaC1j...</td>\n",
       "      <td>http://lsq.aksw.org/lsqQuery-XuGZpY9T5SHOfaC1j...</td>\n",
       "      <td>0.5</td>\n",
       "      <td>0</td>\n",
       "    </tr>\n",
       "    <tr>\n",
       "      <th>998</th>\n",
       "      <td>http://lsq.aksw.org/lsqQuery-AhKebQ8UjaX6a3kX6...</td>\n",
       "      <td>http://lsq.aksw.org/lsqQuery-AhKebQ8UjaX6a3kX6...</td>\n",
       "      <td>1.5</td>\n",
       "      <td>0</td>\n",
       "    </tr>\n",
       "    <tr>\n",
       "      <th>999</th>\n",
       "      <td>http://lsq.aksw.org/lsqQuery-MS1N-_iOz3oIYxTk_...</td>\n",
       "      <td>http://lsq.aksw.org/lsqQuery-MS1N-_iOz3oIYxTk_...</td>\n",
       "      <td>0.5</td>\n",
       "      <td>0</td>\n",
       "    </tr>\n",
       "  </tbody>\n",
       "</table>\n",
       "<p>1000 rows × 4 columns</p>\n",
       "</div>"
      ],
      "text/plain": [
       "                                              queryID1  \\\n",
       "0    http://lsq.aksw.org/lsqQuery-NIkYK_XBxFoO2RLXz...   \n",
       "1    http://lsq.aksw.org/lsqQuery-iFC5C17kDzGGN0Gn4...   \n",
       "2    http://lsq.aksw.org/lsqQuery-x0qiRxGE_Z7n5anjI...   \n",
       "3    http://lsq.aksw.org/lsqQuery-oIWEJSvySrJ4Adz7a...   \n",
       "4    http://lsq.aksw.org/lsqQuery-nRmLxlWCQqk2qJ8Qx...   \n",
       "..                                                 ...   \n",
       "995  http://lsq.aksw.org/lsqQuery-h-2jm9IdV-Q_e9zA2...   \n",
       "996  http://lsq.aksw.org/lsqQuery-hUx_oPDcd_atKa4Tc...   \n",
       "997  http://lsq.aksw.org/lsqQuery-XuGZpY9T5SHOfaC1j...   \n",
       "998  http://lsq.aksw.org/lsqQuery-AhKebQ8UjaX6a3kX6...   \n",
       "999  http://lsq.aksw.org/lsqQuery-MS1N-_iOz3oIYxTk_...   \n",
       "\n",
       "                                              queryID2 dist time  \n",
       "0    http://lsq.aksw.org/lsqQuery-NIkYK_XBxFoO2RLXz...  0.5  943  \n",
       "1    http://lsq.aksw.org/lsqQuery-iFC5C17kDzGGN0Gn4...  2.5   14  \n",
       "2    http://lsq.aksw.org/lsqQuery-x0qiRxGE_Z7n5anjI...  4.0    5  \n",
       "3    http://lsq.aksw.org/lsqQuery-oIWEJSvySrJ4Adz7a...  0.5    5  \n",
       "4    http://lsq.aksw.org/lsqQuery-nRmLxlWCQqk2qJ8Qx...  0.5    2  \n",
       "..                                                 ...  ...  ...  \n",
       "995  http://lsq.aksw.org/lsqQuery-h-2jm9IdV-Q_e9zA2...  1.5    0  \n",
       "996  http://lsq.aksw.org/lsqQuery-hUx_oPDcd_atKa4Tc...  0.5    0  \n",
       "997  http://lsq.aksw.org/lsqQuery-XuGZpY9T5SHOfaC1j...  0.5    0  \n",
       "998  http://lsq.aksw.org/lsqQuery-AhKebQ8UjaX6a3kX6...  1.5    0  \n",
       "999  http://lsq.aksw.org/lsqQuery-MS1N-_iOz3oIYxTk_...  0.5    0  \n",
       "\n",
       "[1000 rows x 4 columns]"
      ]
     },
     "execution_count": 25,
     "metadata": {},
     "output_type": "execute_result"
    }
   ],
   "source": [
    "def load_csv(path, ids):\n",
    "    df = pd.read_csv(path, names=['queryID1', 'queryID2','dist','time'])\n",
    "    df['queryID1']= df['queryID1'].apply(lambda x: x[1:].replace(\"\\\"\",\"\").replace(\"\\\\\",\"\"))\n",
    "    df['queryID2']= df['queryID2'].apply(lambda x: x[1:].replace(\"\\\"\",\"\").replace(\"\\\\\",\"\"))\n",
    "    df['dist'] = df['dist'].apply(lambda x: x.replace(\"\\\"\",\"\").replace(\"\\\\\",\"\"))\n",
    "    #df['time'] = df['time'].apply(lambda x: x.replace(\"\\\"\",\"\").replace(\"\\\\\",\"\"))\n",
    "    return df\n",
    "    \n",
    "\n",
    "df = load_csv(\"/data/wikidata_dists/csv_distances/comb_99999.json.csv\", ids)\n",
    "df"
   ]
  },
  {
   "cell_type": "code",
   "execution_count": null,
   "id": "e7e7ff55-ab4a-4a94-95a2-684c057dbea3",
   "metadata": {},
   "outputs": [],
   "source": [
    "ids = set(ids)\n",
    "len(ids)"
   ]
  },
  {
   "cell_type": "code",
   "execution_count": 18,
   "id": "49a6e22a-39b2-40ad-aa36-cbeb97f7d271",
   "metadata": {},
   "outputs": [],
   "source": [
    "dist_path = \"/qpp/wikidata_dists/distances\"\n",
    "dist_path = \"/data/wikidata_dists/csv_distances\"\n",
    "database_path = \"/data/wiki_ged.db\"\n",
    "dists_files = [f\"{dist_path}/{x}\" for x in os.listdir(dist_path)]"
   ]
  },
  {
   "cell_type": "code",
   "execution_count": 19,
   "id": "6d24b036-becf-4858-91bb-3b97a3cc3596",
   "metadata": {},
   "outputs": [],
   "source": [
    "res = [process_csv(x, database_path) for x in dists_files]"
   ]
  },
  {
   "cell_type": "code",
   "execution_count": 26,
   "id": "35c93880-0c0f-406e-97a0-6b4895c7addb",
   "metadata": {},
   "outputs": [
    {
     "ename": "KeyboardInterrupt",
     "evalue": "",
     "output_type": "error",
     "traceback": [
      "\u001b[0;31m---------------------------------------------------------------------------\u001b[0m",
      "\u001b[0;31mKeyboardInterrupt\u001b[0m                         Traceback (most recent call last)",
      "Cell \u001b[0;32mIn[26], line 4\u001b[0m\n\u001b[1;32m      2\u001b[0m \u001b[38;5;28;01mfor\u001b[39;00m x \u001b[38;5;129;01min\u001b[39;00m dists_files:\n\u001b[1;32m      3\u001b[0m     \u001b[38;5;28;01mtry\u001b[39;00m:\n\u001b[0;32m----> 4\u001b[0m         dfs\u001b[38;5;241m.\u001b[39mappend(\u001b[43mload_csv\u001b[49m\u001b[43m(\u001b[49m\u001b[43mx\u001b[49m\u001b[43m)\u001b[49m)\n\u001b[1;32m      5\u001b[0m     \u001b[38;5;28;01mexcept\u001b[39;00m \u001b[38;5;167;01mException\u001b[39;00m \u001b[38;5;28;01mas\u001b[39;00m e:\n\u001b[1;32m      6\u001b[0m         \u001b[38;5;28mprint\u001b[39m(e\u001b[38;5;241m.\u001b[39mwith_traceback())\n",
      "Cell \u001b[0;32mIn[25], line 2\u001b[0m, in \u001b[0;36mload_csv\u001b[0;34m(path)\u001b[0m\n\u001b[1;32m      1\u001b[0m \u001b[38;5;28;01mdef\u001b[39;00m \u001b[38;5;21mload_csv\u001b[39m(path):\n\u001b[0;32m----> 2\u001b[0m     df \u001b[38;5;241m=\u001b[39m \u001b[43mpd\u001b[49m\u001b[38;5;241;43m.\u001b[39;49m\u001b[43mread_csv\u001b[49m\u001b[43m(\u001b[49m\u001b[43mpath\u001b[49m\u001b[43m,\u001b[49m\u001b[43m \u001b[49m\u001b[43mnames\u001b[49m\u001b[38;5;241;43m=\u001b[39;49m\u001b[43m[\u001b[49m\u001b[38;5;124;43m'\u001b[39;49m\u001b[38;5;124;43mqueryID1\u001b[39;49m\u001b[38;5;124;43m'\u001b[39;49m\u001b[43m,\u001b[49m\u001b[43m \u001b[49m\u001b[38;5;124;43m'\u001b[39;49m\u001b[38;5;124;43mqueryID2\u001b[39;49m\u001b[38;5;124;43m'\u001b[39;49m\u001b[43m,\u001b[49m\u001b[38;5;124;43m'\u001b[39;49m\u001b[38;5;124;43mdist\u001b[39;49m\u001b[38;5;124;43m'\u001b[39;49m\u001b[43m,\u001b[49m\u001b[38;5;124;43m'\u001b[39;49m\u001b[38;5;124;43mtime\u001b[39;49m\u001b[38;5;124;43m'\u001b[39;49m\u001b[43m]\u001b[49m\u001b[43m)\u001b[49m\n\u001b[1;32m      3\u001b[0m     df[\u001b[38;5;124m'\u001b[39m\u001b[38;5;124mqueryID1\u001b[39m\u001b[38;5;124m'\u001b[39m]\u001b[38;5;241m=\u001b[39m df[\u001b[38;5;124m'\u001b[39m\u001b[38;5;124mqueryID1\u001b[39m\u001b[38;5;124m'\u001b[39m]\u001b[38;5;241m.\u001b[39mapply(\u001b[38;5;28;01mlambda\u001b[39;00m x: x[\u001b[38;5;241m1\u001b[39m:]\u001b[38;5;241m.\u001b[39mreplace(\u001b[38;5;124m\"\u001b[39m\u001b[38;5;130;01m\\\"\u001b[39;00m\u001b[38;5;124m\"\u001b[39m,\u001b[38;5;124m\"\u001b[39m\u001b[38;5;124m\"\u001b[39m))\n\u001b[1;32m      4\u001b[0m     df[\u001b[38;5;124m'\u001b[39m\u001b[38;5;124mqueryID2\u001b[39m\u001b[38;5;124m'\u001b[39m]\u001b[38;5;241m=\u001b[39m df[\u001b[38;5;124m'\u001b[39m\u001b[38;5;124mqueryID2\u001b[39m\u001b[38;5;124m'\u001b[39m]\u001b[38;5;241m.\u001b[39mapply(\u001b[38;5;28;01mlambda\u001b[39;00m x: x[\u001b[38;5;241m1\u001b[39m:]\u001b[38;5;241m.\u001b[39mreplace(\u001b[38;5;124m\"\u001b[39m\u001b[38;5;130;01m\\\"\u001b[39;00m\u001b[38;5;124m\"\u001b[39m,\u001b[38;5;124m\"\u001b[39m\u001b[38;5;124m\"\u001b[39m))\n",
      "File \u001b[0;32m/usr/local/lib/python3.10/dist-packages/pandas/io/parsers/readers.py:948\u001b[0m, in \u001b[0;36mread_csv\u001b[0;34m(filepath_or_buffer, sep, delimiter, header, names, index_col, usecols, dtype, engine, converters, true_values, false_values, skipinitialspace, skiprows, skipfooter, nrows, na_values, keep_default_na, na_filter, verbose, skip_blank_lines, parse_dates, infer_datetime_format, keep_date_col, date_parser, date_format, dayfirst, cache_dates, iterator, chunksize, compression, thousands, decimal, lineterminator, quotechar, quoting, doublequote, escapechar, comment, encoding, encoding_errors, dialect, on_bad_lines, delim_whitespace, low_memory, memory_map, float_precision, storage_options, dtype_backend)\u001b[0m\n\u001b[1;32m    935\u001b[0m kwds_defaults \u001b[38;5;241m=\u001b[39m _refine_defaults_read(\n\u001b[1;32m    936\u001b[0m     dialect,\n\u001b[1;32m    937\u001b[0m     delimiter,\n\u001b[0;32m   (...)\u001b[0m\n\u001b[1;32m    944\u001b[0m     dtype_backend\u001b[38;5;241m=\u001b[39mdtype_backend,\n\u001b[1;32m    945\u001b[0m )\n\u001b[1;32m    946\u001b[0m kwds\u001b[38;5;241m.\u001b[39mupdate(kwds_defaults)\n\u001b[0;32m--> 948\u001b[0m \u001b[38;5;28;01mreturn\u001b[39;00m \u001b[43m_read\u001b[49m\u001b[43m(\u001b[49m\u001b[43mfilepath_or_buffer\u001b[49m\u001b[43m,\u001b[49m\u001b[43m \u001b[49m\u001b[43mkwds\u001b[49m\u001b[43m)\u001b[49m\n",
      "File \u001b[0;32m/usr/local/lib/python3.10/dist-packages/pandas/io/parsers/readers.py:617\u001b[0m, in \u001b[0;36m_read\u001b[0;34m(filepath_or_buffer, kwds)\u001b[0m\n\u001b[1;32m    614\u001b[0m     \u001b[38;5;28;01mreturn\u001b[39;00m parser\n\u001b[1;32m    616\u001b[0m \u001b[38;5;28;01mwith\u001b[39;00m parser:\n\u001b[0;32m--> 617\u001b[0m     \u001b[38;5;28;01mreturn\u001b[39;00m \u001b[43mparser\u001b[49m\u001b[38;5;241;43m.\u001b[39;49m\u001b[43mread\u001b[49m\u001b[43m(\u001b[49m\u001b[43mnrows\u001b[49m\u001b[43m)\u001b[49m\n",
      "File \u001b[0;32m/usr/local/lib/python3.10/dist-packages/pandas/io/parsers/readers.py:1748\u001b[0m, in \u001b[0;36mTextFileReader.read\u001b[0;34m(self, nrows)\u001b[0m\n\u001b[1;32m   1741\u001b[0m nrows \u001b[38;5;241m=\u001b[39m validate_integer(\u001b[38;5;124m\"\u001b[39m\u001b[38;5;124mnrows\u001b[39m\u001b[38;5;124m\"\u001b[39m, nrows)\n\u001b[1;32m   1742\u001b[0m \u001b[38;5;28;01mtry\u001b[39;00m:\n\u001b[1;32m   1743\u001b[0m     \u001b[38;5;66;03m# error: \"ParserBase\" has no attribute \"read\"\u001b[39;00m\n\u001b[1;32m   1744\u001b[0m     (\n\u001b[1;32m   1745\u001b[0m         index,\n\u001b[1;32m   1746\u001b[0m         columns,\n\u001b[1;32m   1747\u001b[0m         col_dict,\n\u001b[0;32m-> 1748\u001b[0m     ) \u001b[38;5;241m=\u001b[39m \u001b[38;5;28;43mself\u001b[39;49m\u001b[38;5;241;43m.\u001b[39;49m\u001b[43m_engine\u001b[49m\u001b[38;5;241;43m.\u001b[39;49m\u001b[43mread\u001b[49m\u001b[43m(\u001b[49m\u001b[43m  \u001b[49m\u001b[38;5;66;43;03m# type: ignore[attr-defined]\u001b[39;49;00m\n\u001b[1;32m   1749\u001b[0m \u001b[43m        \u001b[49m\u001b[43mnrows\u001b[49m\n\u001b[1;32m   1750\u001b[0m \u001b[43m    \u001b[49m\u001b[43m)\u001b[49m\n\u001b[1;32m   1751\u001b[0m \u001b[38;5;28;01mexcept\u001b[39;00m \u001b[38;5;167;01mException\u001b[39;00m:\n\u001b[1;32m   1752\u001b[0m     \u001b[38;5;28mself\u001b[39m\u001b[38;5;241m.\u001b[39mclose()\n",
      "File \u001b[0;32m/usr/local/lib/python3.10/dist-packages/pandas/io/parsers/c_parser_wrapper.py:234\u001b[0m, in \u001b[0;36mCParserWrapper.read\u001b[0;34m(self, nrows)\u001b[0m\n\u001b[1;32m    232\u001b[0m \u001b[38;5;28;01mtry\u001b[39;00m:\n\u001b[1;32m    233\u001b[0m     \u001b[38;5;28;01mif\u001b[39;00m \u001b[38;5;28mself\u001b[39m\u001b[38;5;241m.\u001b[39mlow_memory:\n\u001b[0;32m--> 234\u001b[0m         chunks \u001b[38;5;241m=\u001b[39m \u001b[38;5;28;43mself\u001b[39;49m\u001b[38;5;241;43m.\u001b[39;49m\u001b[43m_reader\u001b[49m\u001b[38;5;241;43m.\u001b[39;49m\u001b[43mread_low_memory\u001b[49m\u001b[43m(\u001b[49m\u001b[43mnrows\u001b[49m\u001b[43m)\u001b[49m\n\u001b[1;32m    235\u001b[0m         \u001b[38;5;66;03m# destructive to chunks\u001b[39;00m\n\u001b[1;32m    236\u001b[0m         data \u001b[38;5;241m=\u001b[39m _concatenate_chunks(chunks)\n",
      "\u001b[0;31mKeyboardInterrupt\u001b[0m: "
     ]
    }
   ],
   "source": [
    "\n",
    "\n",
    "\n",
    "dfs = list()\n",
    "for x in dists_files:\n",
    "    try:\n",
    "        dfs.append(load_csv(x))\n",
    "    except Exception as e:\n",
    "        print(e.with_traceback())"
   ]
  },
  {
   "cell_type": "code",
   "execution_count": 29,
   "id": "13f06bb9-2a49-414e-a8b1-81296b6098d8",
   "metadata": {},
   "outputs": [],
   "source": [
    "df = pd.concat(dfs)"
   ]
  },
  {
   "cell_type": "code",
   "execution_count": 30,
   "id": "7b694f65-83c6-4e0a-8be1-175d652fc8f7",
   "metadata": {},
   "outputs": [
    {
     "data": {
      "text/plain": [
       "41784000"
      ]
     },
     "execution_count": 30,
     "metadata": {},
     "output_type": "execute_result"
    }
   ],
   "source": [
    "len(df)"
   ]
  },
  {
   "cell_type": "code",
   "execution_count": null,
   "id": "6eede6aa-c72c-48c6-a1f2-89fceca275ff",
   "metadata": {
    "scrolled": true
   },
   "outputs": [],
   "source": [
    "dist_matrix = {}\n",
    "files_without_els = []\n",
    "for item,x in enumerate(dists_files):\n",
    "    print(f'starting on {item}, {x}')\n",
    "    try:\n",
    "        data = json.load(open(x,'r'))\n",
    "    except Exception as e:\n",
    "        try:\n",
    "            data = json5.load(open(x,'r'))\n",
    "        except Exception as e1:\n",
    "            print(x)\n",
    "            files_without_els.append(x)\n",
    "    for pair in data:\n",
    "        if pair['queryID1'] in ids and pair['queryID2'] in ids:\n",
    "            dist_matrix[pair['queryID1'],pair['queryID2']] = pair['dist']\n",
    "            dist_matrix[pair['queryID2'],pair['queryID1']] = pair['dist']"
   ]
  },
  {
   "cell_type": "code",
   "execution_count": null,
   "id": "28a5d36a-64ec-4d53-b017-621090d63520",
   "metadata": {},
   "outputs": [],
   "source": [
    "for k in dist_matrix.keys():\n",
    "    print(k)\n",
    "    break"
   ]
  },
  {
   "cell_type": "code",
   "execution_count": null,
   "id": "61e1e738-3575-4a41-ae6f-13da5cc31071",
   "metadata": {},
   "outputs": [],
   "source": [
    "from qpp_new.featurea_combiner import create_different_k_ged_dist_matrix"
   ]
  },
  {
   "cell_type": "code",
   "execution_count": null,
   "id": "93319e7e-0828-4326-99ec-559d0cb08a61",
   "metadata": {},
   "outputs": [],
   "source": [
    "basedir=\"/data/wikidata_0_1_10_v2_path_aug\"\n",
    "create_different_k_ged_dist_matrix(basedir=basedir, dist_matrix=dist_matrix)"
   ]
  }
 ],
 "metadata": {
  "kernelspec": {
   "display_name": "Python 3 (ipykernel)",
   "language": "python",
   "name": "python3"
  },
  "language_info": {
   "codemirror_mode": {
    "name": "ipython",
    "version": 3
   },
   "file_extension": ".py",
   "mimetype": "text/x-python",
   "name": "python",
   "nbconvert_exporter": "python",
   "pygments_lexer": "ipython3",
   "version": "3.10.12"
  }
 },
 "nbformat": 4,
 "nbformat_minor": 5
}
