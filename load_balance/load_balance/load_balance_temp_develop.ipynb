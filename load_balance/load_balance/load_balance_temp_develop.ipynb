{
 "cells": [
  {
   "cell_type": "code",
   "execution_count": null,
   "id": "139c6838-4d80-432f-83fa-c29a73fb0d39",
   "metadata": {},
   "outputs": [],
   "source": [
    "!pip install -e /PlanRGCN/load_balance/"
   ]
  },
  {
   "cell_type": "code",
   "execution_count": 11,
   "id": "f302e86f-c0ec-4650-8e0b-e59523a4e6a6",
   "metadata": {},
   "outputs": [],
   "source": [
    "import pandas as pd\n",
    "import numpy as np\n",
    "import os\n",
    "import importlib\n",
    "import load_balance.workload as workload\n",
    "import load_balance.query as query\n",
    "import load_balance.arrival_time as at\n",
    "importlib.reload(at)\n",
    "importlib.reload(workload)\n",
    "importlib.reload(query)\n",
    "Query = query.Query\n",
    "ArrivalRateDecider = at.ArrivalRateDecider\n",
    "Workload = workload.Workload"
   ]
  },
  {
   "cell_type": "code",
   "execution_count": 12,
   "id": "32450b09-cf84-41bb-b4ea-515b0eac228b",
   "metadata": {},
   "outputs": [],
   "source": [
    "df = pd.read_csv('/data/DBpedia2016_0_1_10_path_aug/train_sampled.tsv', sep='\\t')"
   ]
  },
  {
   "cell_type": "code",
   "execution_count": 13,
   "id": "0c9c7612-ae3f-49a9-9681-f145a9eecce1",
   "metadata": {},
   "outputs": [
    {
     "data": {
      "text/html": [
       "<div>\n",
       "<style scoped>\n",
       "    .dataframe tbody tr th:only-of-type {\n",
       "        vertical-align: middle;\n",
       "    }\n",
       "\n",
       "    .dataframe tbody tr th {\n",
       "        vertical-align: top;\n",
       "    }\n",
       "\n",
       "    .dataframe thead th {\n",
       "        text-align: right;\n",
       "    }\n",
       "</style>\n",
       "<table border=\"1\" class=\"dataframe\">\n",
       "  <thead>\n",
       "    <tr style=\"text-align: right;\">\n",
       "      <th></th>\n",
       "      <th>id</th>\n",
       "      <th>queryString</th>\n",
       "      <th>query_string_0</th>\n",
       "      <th>latency_0</th>\n",
       "      <th>resultset_0</th>\n",
       "      <th>query_string_1</th>\n",
       "      <th>latency_1</th>\n",
       "      <th>resultset_1</th>\n",
       "      <th>query_string_2</th>\n",
       "      <th>latency_2</th>\n",
       "      <th>...</th>\n",
       "      <th>Alternative</th>\n",
       "      <th>ComplexPath</th>\n",
       "      <th>MoreThanOnePredicate</th>\n",
       "      <th>queryID</th>\n",
       "      <th>Queries with 1 TP</th>\n",
       "      <th>Queries with 2 TP</th>\n",
       "      <th>Queries with more TP</th>\n",
       "      <th>S-P Concrete</th>\n",
       "      <th>P-O Concrete</th>\n",
       "      <th>S-O Concrete</th>\n",
       "    </tr>\n",
       "  </thead>\n",
       "  <tbody>\n",
       "    <tr>\n",
       "      <th>0</th>\n",
       "      <td>http://lsq.aksw.org/lsqQuery-pMdmnYbKrDKIfHyUb...</td>\n",
       "      <td>PREFIX rdf: &lt;http://www.w3.org/1999/02/22-rdf-...</td>\n",
       "      <td>PREFIX rdf: &lt;http://www.w3.org/1999/02/22-rdf-...</td>\n",
       "      <td>0.017741</td>\n",
       "      <td>NaN</td>\n",
       "      <td>PREFIX rdf: &lt;http://www.w3.org/1999/02/22-rdf-...</td>\n",
       "      <td>0.006007</td>\n",
       "      <td>NaN</td>\n",
       "      <td>PREFIX rdf: &lt;http://www.w3.org/1999/02/22-rdf-...</td>\n",
       "      <td>0.019850</td>\n",
       "      <td>...</td>\n",
       "      <td>0</td>\n",
       "      <td>0</td>\n",
       "      <td>0</td>\n",
       "      <td>http://lsq.aksw.org/lsqQuery-pMdmnYbKrDKIfHyUb...</td>\n",
       "      <td>1</td>\n",
       "      <td>0</td>\n",
       "      <td>0</td>\n",
       "      <td>0</td>\n",
       "      <td>0</td>\n",
       "      <td>0</td>\n",
       "    </tr>\n",
       "    <tr>\n",
       "      <th>1</th>\n",
       "      <td>http://lsq.aksw.org/lsqQuery-OxoJr-_LrTMGtMU90...</td>\n",
       "      <td>PREFIX xsd: &lt;http://www.w3.org/2001/XMLSchema#...</td>\n",
       "      <td>PREFIX xsd: &lt;http://www.w3.org/2001/XMLSchema#...</td>\n",
       "      <td>0.143848</td>\n",
       "      <td>NaN</td>\n",
       "      <td>PREFIX xsd: &lt;http://www.w3.org/2001/XMLSchema#...</td>\n",
       "      <td>0.038889</td>\n",
       "      <td>NaN</td>\n",
       "      <td>PREFIX xsd: &lt;http://www.w3.org/2001/XMLSchema#...</td>\n",
       "      <td>0.111012</td>\n",
       "      <td>...</td>\n",
       "      <td>0</td>\n",
       "      <td>0</td>\n",
       "      <td>0</td>\n",
       "      <td>http://lsq.aksw.org/lsqQuery-OxoJr-_LrTMGtMU90...</td>\n",
       "      <td>0</td>\n",
       "      <td>0</td>\n",
       "      <td>1</td>\n",
       "      <td>1</td>\n",
       "      <td>0</td>\n",
       "      <td>0</td>\n",
       "    </tr>\n",
       "    <tr>\n",
       "      <th>2</th>\n",
       "      <td>http://lsq.aksw.org/lsqQuery-eWXAkkV0HEhVJH54_...</td>\n",
       "      <td>PREFIX dby: &lt;http://dbpedia.org/class/yago/&gt; P...</td>\n",
       "      <td>PREFIX dby: &lt;http://dbpedia.org/class/yago/&gt; P...</td>\n",
       "      <td>0.020718</td>\n",
       "      <td>NaN</td>\n",
       "      <td>PREFIX dby: &lt;http://dbpedia.org/class/yago/&gt; P...</td>\n",
       "      <td>0.003342</td>\n",
       "      <td>NaN</td>\n",
       "      <td>PREFIX dby: &lt;http://dbpedia.org/class/yago/&gt; P...</td>\n",
       "      <td>0.002865</td>\n",
       "      <td>...</td>\n",
       "      <td>0</td>\n",
       "      <td>0</td>\n",
       "      <td>0</td>\n",
       "      <td>http://lsq.aksw.org/lsqQuery-eWXAkkV0HEhVJH54_...</td>\n",
       "      <td>0</td>\n",
       "      <td>0</td>\n",
       "      <td>1</td>\n",
       "      <td>0</td>\n",
       "      <td>1</td>\n",
       "      <td>0</td>\n",
       "    </tr>\n",
       "    <tr>\n",
       "      <th>3</th>\n",
       "      <td>http://lsq.aksw.org/lsqQuery-o1HoGA-SkHdgyIJa_...</td>\n",
       "      <td>SELECT DISTINCT ?property FROM &lt;http://www.w3....</td>\n",
       "      <td>SELECT DISTINCT ?property FROM &lt;http://www.w3....</td>\n",
       "      <td>0.011756</td>\n",
       "      <td>NaN</td>\n",
       "      <td>SELECT DISTINCT ?property FROM &lt;http://www.w3....</td>\n",
       "      <td>0.002562</td>\n",
       "      <td>NaN</td>\n",
       "      <td>SELECT DISTINCT ?property FROM &lt;http://www.w3....</td>\n",
       "      <td>0.025801</td>\n",
       "      <td>...</td>\n",
       "      <td>0</td>\n",
       "      <td>0</td>\n",
       "      <td>0</td>\n",
       "      <td>http://lsq.aksw.org/lsqQuery-o1HoGA-SkHdgyIJa_...</td>\n",
       "      <td>1</td>\n",
       "      <td>0</td>\n",
       "      <td>0</td>\n",
       "      <td>0</td>\n",
       "      <td>0</td>\n",
       "      <td>0</td>\n",
       "    </tr>\n",
       "    <tr>\n",
       "      <th>4</th>\n",
       "      <td>http://lsq.aksw.org/lsqQuery-A713d3YtNCeXejPPO...</td>\n",
       "      <td>PREFIX dbpo: &lt;http://dbpedia.org/ontology/&gt; PR...</td>\n",
       "      <td>PREFIX dbpo: &lt;http://dbpedia.org/ontology/&gt; PR...</td>\n",
       "      <td>0.007046</td>\n",
       "      <td>NaN</td>\n",
       "      <td>PREFIX dbpo: &lt;http://dbpedia.org/ontology/&gt; PR...</td>\n",
       "      <td>0.005886</td>\n",
       "      <td>NaN</td>\n",
       "      <td>PREFIX dbpo: &lt;http://dbpedia.org/ontology/&gt; PR...</td>\n",
       "      <td>0.003202</td>\n",
       "      <td>...</td>\n",
       "      <td>0</td>\n",
       "      <td>0</td>\n",
       "      <td>0</td>\n",
       "      <td>http://lsq.aksw.org/lsqQuery-A713d3YtNCeXejPPO...</td>\n",
       "      <td>0</td>\n",
       "      <td>0</td>\n",
       "      <td>1</td>\n",
       "      <td>0</td>\n",
       "      <td>0</td>\n",
       "      <td>0</td>\n",
       "    </tr>\n",
       "  </tbody>\n",
       "</table>\n",
       "<p>5 rows × 42 columns</p>\n",
       "</div>"
      ],
      "text/plain": [
       "                                                  id  \\\n",
       "0  http://lsq.aksw.org/lsqQuery-pMdmnYbKrDKIfHyUb...   \n",
       "1  http://lsq.aksw.org/lsqQuery-OxoJr-_LrTMGtMU90...   \n",
       "2  http://lsq.aksw.org/lsqQuery-eWXAkkV0HEhVJH54_...   \n",
       "3  http://lsq.aksw.org/lsqQuery-o1HoGA-SkHdgyIJa_...   \n",
       "4  http://lsq.aksw.org/lsqQuery-A713d3YtNCeXejPPO...   \n",
       "\n",
       "                                         queryString  \\\n",
       "0  PREFIX rdf: <http://www.w3.org/1999/02/22-rdf-...   \n",
       "1  PREFIX xsd: <http://www.w3.org/2001/XMLSchema#...   \n",
       "2  PREFIX dby: <http://dbpedia.org/class/yago/> P...   \n",
       "3  SELECT DISTINCT ?property FROM <http://www.w3....   \n",
       "4  PREFIX dbpo: <http://dbpedia.org/ontology/> PR...   \n",
       "\n",
       "                                      query_string_0  latency_0  resultset_0  \\\n",
       "0  PREFIX rdf: <http://www.w3.org/1999/02/22-rdf-...   0.017741          NaN   \n",
       "1  PREFIX xsd: <http://www.w3.org/2001/XMLSchema#...   0.143848          NaN   \n",
       "2  PREFIX dby: <http://dbpedia.org/class/yago/> P...   0.020718          NaN   \n",
       "3  SELECT DISTINCT ?property FROM <http://www.w3....   0.011756          NaN   \n",
       "4  PREFIX dbpo: <http://dbpedia.org/ontology/> PR...   0.007046          NaN   \n",
       "\n",
       "                                      query_string_1  latency_1  resultset_1  \\\n",
       "0  PREFIX rdf: <http://www.w3.org/1999/02/22-rdf-...   0.006007          NaN   \n",
       "1  PREFIX xsd: <http://www.w3.org/2001/XMLSchema#...   0.038889          NaN   \n",
       "2  PREFIX dby: <http://dbpedia.org/class/yago/> P...   0.003342          NaN   \n",
       "3  SELECT DISTINCT ?property FROM <http://www.w3....   0.002562          NaN   \n",
       "4  PREFIX dbpo: <http://dbpedia.org/ontology/> PR...   0.005886          NaN   \n",
       "\n",
       "                                      query_string_2  latency_2  ...  \\\n",
       "0  PREFIX rdf: <http://www.w3.org/1999/02/22-rdf-...   0.019850  ...   \n",
       "1  PREFIX xsd: <http://www.w3.org/2001/XMLSchema#...   0.111012  ...   \n",
       "2  PREFIX dby: <http://dbpedia.org/class/yago/> P...   0.002865  ...   \n",
       "3  SELECT DISTINCT ?property FROM <http://www.w3....   0.025801  ...   \n",
       "4  PREFIX dbpo: <http://dbpedia.org/ontology/> PR...   0.003202  ...   \n",
       "\n",
       "   Alternative  ComplexPath  MoreThanOnePredicate  \\\n",
       "0            0            0                     0   \n",
       "1            0            0                     0   \n",
       "2            0            0                     0   \n",
       "3            0            0                     0   \n",
       "4            0            0                     0   \n",
       "\n",
       "                                             queryID  Queries with 1 TP  \\\n",
       "0  http://lsq.aksw.org/lsqQuery-pMdmnYbKrDKIfHyUb...                  1   \n",
       "1  http://lsq.aksw.org/lsqQuery-OxoJr-_LrTMGtMU90...                  0   \n",
       "2  http://lsq.aksw.org/lsqQuery-eWXAkkV0HEhVJH54_...                  0   \n",
       "3  http://lsq.aksw.org/lsqQuery-o1HoGA-SkHdgyIJa_...                  1   \n",
       "4  http://lsq.aksw.org/lsqQuery-A713d3YtNCeXejPPO...                  0   \n",
       "\n",
       "   Queries with 2 TP  Queries with more TP  S-P Concrete  P-O Concrete  \\\n",
       "0                  0                     0             0             0   \n",
       "1                  0                     1             1             0   \n",
       "2                  0                     1             0             1   \n",
       "3                  0                     0             0             0   \n",
       "4                  0                     1             0             0   \n",
       "\n",
       "   S-O Concrete  \n",
       "0             0  \n",
       "1             0  \n",
       "2             0  \n",
       "3             0  \n",
       "4             0  \n",
       "\n",
       "[5 rows x 42 columns]"
      ]
     },
     "execution_count": 13,
     "metadata": {},
     "output_type": "execute_result"
    }
   ],
   "source": [
    "df.head(5)"
   ]
  },
  {
   "cell_type": "markdown",
   "id": "22207675-7a59-4b31-80e9-d65f3d5d4259",
   "metadata": {},
   "source": [
    "df[df['id']=='http://lsq.aksw.org/lsqQuery-b_Tjy3b2j03Ab56KAZ-Hw-tFyANBndGDqUnHc0p50WM']"
   ]
  },
  {
   "cell_type": "code",
   "execution_count": 4,
   "id": "494f6986-4b96-4169-9bd6-c6539c6a1677",
   "metadata": {},
   "outputs": [
    {
     "data": {
      "text/plain": [
       "0.037649461068212944"
      ]
     },
     "execution_count": 4,
     "metadata": {},
     "output_type": "execute_result"
    }
   ],
   "source": [
    "df['mean_latency'].quantile(q=0.25)"
   ]
  },
  {
   "cell_type": "code",
   "execution_count": 5,
   "id": "ae2a89e2-5859-4abe-88a7-6b1438223ec9",
   "metadata": {},
   "outputs": [
    {
     "name": "stdout",
     "output_type": "stream",
     "text": [
      "loaded 16206\n"
     ]
    }
   ],
   "source": [
    "w = Workload()\n",
    "w.load_queries('/data/DBpedia2016_0_1_10_path_aug/train_sampled.tsv')\n",
    "w.set_time_cls(\"/data/DBpedia2016_0_1_10_path_aug/planrgcn_binner/train_pred.csv\")\n",
    "a = ArrivalRateDecider()\n",
    "w.set_arrival_times(a.assign_arrival_rate(w, mu=40))"
   ]
  },
  {
   "cell_type": "code",
   "execution_count": 6,
   "id": "2e6482b9-2a83-4bfd-8479-fc2a1f4e52ce",
   "metadata": {},
   "outputs": [
    {
     "name": "stdout",
     "output_type": "stream",
     "text": [
      "(<load_balance.query.Query object at 0x7f6d2b13cd90>, 0.011731702249421478)\n",
      "(<load_balance.query.Query object at 0x7f6d29df03a0>, 0.011731702249421478)\n"
     ]
    }
   ],
   "source": [
    "print(w[0])\n",
    "w.shuffle_queries()\n",
    "print(w[0])"
   ]
  },
  {
   "cell_type": "code",
   "execution_count": null,
   "id": "a29841e5-e60f-48f8-ab4f-90011d2df773",
   "metadata": {},
   "outputs": [],
   "source": []
  },
  {
   "cell_type": "code",
   "execution_count": null,
   "id": "a40722ab-d4c3-43c5-818e-e7f7a31bf15f",
   "metadata": {},
   "outputs": [],
   "source": [
    "print(w[:10])"
   ]
  },
  {
   "cell_type": "code",
   "execution_count": 8,
   "id": "da960d74-6f28-4eb4-b0e6-facf04974b05",
   "metadata": {},
   "outputs": [],
   "source": [
    "\n",
    "from load_balance.timer import Timer\n",
    "\n",
    "from load_balance.worker import Worker\n",
    "        \n",
    "from load_balance.dat_struct import Queue\n",
    "\n",
    "from load_balance.balancer import Balancer\n",
    "\n",
    "            \n",
    "b = Balancer(w)     \n",
    "b.run()      "
   ]
  },
  {
   "cell_type": "code",
   "execution_count": null,
   "id": "ad7cb443-86f1-4cc5-90bd-bda7982367ab",
   "metadata": {},
   "outputs": [],
   "source": [
    "print(b.slow_queue.worker[0].past_queries[0])"
   ]
  },
  {
   "cell_type": "code",
   "execution_count": 10,
   "id": "235b0b25-da45-4ce2-9673-8bd06d9e3f23",
   "metadata": {},
   "outputs": [
    {
     "data": {
      "text/plain": [
       "202.51363121171752"
      ]
     },
     "execution_count": 10,
     "metadata": {},
     "output_type": "execute_result"
    }
   ],
   "source": [
    "def get_all_queries(b):\n",
    "    queries = []\n",
    "    for w in b.slow_queue.worker:\n",
    "        queries.extend(w.past_queries)\n",
    "    for w in b.med_queue.worker:\n",
    "        queries.extend(w.past_queries)\n",
    "    for w in b.fast_queue.worker:\n",
    "        queries.extend(w.past_queries)\n",
    "    return queries\n",
    "def workload_latency(qs):\n",
    "    total_latency = 0\n",
    "    for q in qs:\n",
    "        total_latency += (q.finish_time- q.arrivaltime)\n",
    "    return total_latency\n",
    "qs = get_all_queries(b)\n",
    "workload_latency(qs)/len(qs)"
   ]
  },
  {
   "cell_type": "code",
   "execution_count": null,
   "id": "afe25081-ba59-4150-812c-877d455d3199",
   "metadata": {},
   "outputs": [],
   "source": [
    "len(qs)"
   ]
  },
  {
   "cell_type": "code",
   "execution_count": null,
   "id": "066ae0b8-ca2a-49e5-90d9-7c3d15ab141d",
   "metadata": {},
   "outputs": [],
   "source": [
    "q = qs[0]\n",
    "print(q.arrivaltime, q.finish_time, q.execution_time, q.starttime)\n"
   ]
  }
 ],
 "metadata": {
  "kernelspec": {
   "display_name": "Python 3 (ipykernel)",
   "language": "python",
   "name": "python3"
  },
  "language_info": {
   "codemirror_mode": {
    "name": "ipython",
    "version": 3
   },
   "file_extension": ".py",
   "mimetype": "text/x-python",
   "name": "python",
   "nbconvert_exporter": "python",
   "pygments_lexer": "ipython3",
   "version": "3.10.12"
  }
 },
 "nbformat": 4,
 "nbformat_minor": 5
}
